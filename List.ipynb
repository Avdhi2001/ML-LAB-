{
  "nbformat": 4,
  "nbformat_minor": 0,
  "metadata": {
    "colab": {
      "name": "List.ipynb",
      "provenance": []
    },
    "kernelspec": {
      "name": "python3",
      "display_name": "Python 3"
    },
    "language_info": {
      "name": "python"
    }
  },
  "cells": [
    {
      "cell_type": "code",
      "execution_count": 1,
      "metadata": {
        "colab": {
          "base_uri": "https://localhost:8080/"
        },
        "id": "n6aGcsmH-rfw",
        "outputId": "3e9b9270-2298-43c0-8229-632d1f047a5c"
      },
      "outputs": [
        {
          "output_type": "stream",
          "name": "stdout",
          "text": [
            "[1, 2, 3, 4, 5]\n"
          ]
        }
      ],
      "source": [
        "li=[1,2,3,4,5]\n",
        "print(li)"
      ]
    },
    {
      "cell_type": "code",
      "source": [
        "li=[5,7,1,9,3,5]\n",
        "li.sort()\n",
        "print(li)"
      ],
      "metadata": {
        "colab": {
          "base_uri": "https://localhost:8080/"
        },
        "id": "PSPwATvY-8tD",
        "outputId": "44c2248d-7997-4a3e-fa26-d9cb6475b97e"
      },
      "execution_count": 2,
      "outputs": [
        {
          "output_type": "stream",
          "name": "stdout",
          "text": [
            "[1, 3, 5, 5, 7, 9]\n"
          ]
        }
      ]
    },
    {
      "cell_type": "code",
      "source": [
        "li=[5,7,1,9,3,5]\n",
        "print(sorted(li))"
      ],
      "metadata": {
        "colab": {
          "base_uri": "https://localhost:8080/"
        },
        "id": "yuw1erT--__b",
        "outputId": "00eaf58e-cc8f-4e5d-c7eb-541f8fcb9e05"
      },
      "execution_count": 3,
      "outputs": [
        {
          "output_type": "stream",
          "name": "stdout",
          "text": [
            "[1, 3, 5, 5, 7, 9]\n"
          ]
        }
      ]
    },
    {
      "cell_type": "code",
      "source": [
        "li.append(\"avdhi\")\n",
        "print(li)"
      ],
      "metadata": {
        "colab": {
          "base_uri": "https://localhost:8080/"
        },
        "id": "UR-eiXuJ_DG9",
        "outputId": "e643e15f-2b14-49c2-e246-d26f5538a6a3"
      },
      "execution_count": 4,
      "outputs": [
        {
          "output_type": "stream",
          "name": "stdout",
          "text": [
            "[5, 7, 1, 9, 3, 5, 'avdhi']\n"
          ]
        }
      ]
    },
    {
      "cell_type": "code",
      "source": [
        "print(li[0])\n",
        "li=[\"0827CI191012\",\"Avdhi\",6,56,90]\n",
        "print(li)"
      ],
      "metadata": {
        "colab": {
          "base_uri": "https://localhost:8080/"
        },
        "id": "dQVxXtg4_KpC",
        "outputId": "0c415236-fe4a-415f-8499-e8990dae7afa"
      },
      "execution_count": 5,
      "outputs": [
        {
          "output_type": "stream",
          "name": "stdout",
          "text": [
            "5\n",
            "['0827CI191012', 'Avdhi', 6, 56, 90]\n"
          ]
        }
      ]
    },
    {
      "cell_type": "code",
      "source": [
        "print(li.pop())\n",
        "print(li[:])"
      ],
      "metadata": {
        "colab": {
          "base_uri": "https://localhost:8080/"
        },
        "id": "0JaWtvWk_RSr",
        "outputId": "d97dea37-9ea6-4fb0-ea30-0f0aac435ac1"
      },
      "execution_count": 6,
      "outputs": [
        {
          "output_type": "stream",
          "name": "stdout",
          "text": [
            "90\n",
            "['0827CI191012', 'Avdhi', 6, 56]\n"
          ]
        }
      ]
    },
    {
      "cell_type": "code",
      "source": [
        "a=[1,2,3,4,5]\n",
        "print(max(a))\n",
        "print(min(a))\n",
        "li.reverse()\n",
        "print(li)\n",
        "c=list(reversed(li))\n",
        "print(c)\n",
        "b=li[0:3]\n",
        "print(b)"
      ],
      "metadata": {
        "colab": {
          "base_uri": "https://localhost:8080/"
        },
        "id": "2TXt1lBB_V4T",
        "outputId": "13f6f527-5633-45f7-c578-c616d4e0955b"
      },
      "execution_count": 7,
      "outputs": [
        {
          "output_type": "stream",
          "name": "stdout",
          "text": [
            "5\n",
            "1\n",
            "[56, 6, 'Avdhi', '0827CI191012']\n",
            "['0827CI191012', 'Avdhi', 6, 56]\n",
            "[56, 6, 'Avdhi']\n"
          ]
        }
      ]
    },
    {
      "cell_type": "code",
      "source": [
        "a.append(1)\n",
        "print(a)\n",
        "\n",
        "a.extend([\"avdhi\",\"jain\"])\n",
        "print(a)\n",
        "\n",
        "print(a[: :-1])"
      ],
      "metadata": {
        "colab": {
          "base_uri": "https://localhost:8080/"
        },
        "id": "xGjSIS7g_cAV",
        "outputId": "806bca7d-88fe-4e11-964d-5a3ab33f36ea"
      },
      "execution_count": 8,
      "outputs": [
        {
          "output_type": "stream",
          "name": "stdout",
          "text": [
            "[1, 2, 3, 4, 5, 1]\n",
            "[1, 2, 3, 4, 5, 1, 'avdhi', 'jain']\n",
            "['jain', 'avdhi', 1, 5, 4, 3, 2, 1]\n"
          ]
        }
      ]
    },
    {
      "cell_type": "code",
      "source": [
        "t=(1,2,3,4)\n",
        "print(t)\n",
        "\n",
        "t1=(3,4,5,6)\n",
        "t+t1\n",
        "\n",
        "lis=[0,1,2,3,4,5,6,7,8,9,10,11,12,13,14,15,16,17,18,19,20]\n",
        "print(lis[::2])\n",
        "print(lis[::-2],\"------\")\n",
        "print(lis[3::-1])\n",
        "print(lis[12:0:-2])\n",
        "\n",
        "t3=[i for i in t1 if i%2==0]\n",
        "print(t3)"
      ],
      "metadata": {
        "colab": {
          "base_uri": "https://localhost:8080/"
        },
        "id": "ogpQ5pR6_iv-",
        "outputId": "9cb695b1-cd9e-451d-d805-d66823e289dc"
      },
      "execution_count": 9,
      "outputs": [
        {
          "output_type": "stream",
          "name": "stdout",
          "text": [
            "(1, 2, 3, 4)\n",
            "[0, 2, 4, 6, 8, 10, 12, 14, 16, 18, 20]\n",
            "[20, 18, 16, 14, 12, 10, 8, 6, 4, 2, 0] ------\n",
            "[3, 2, 1, 0]\n",
            "[12, 10, 8, 6, 4, 2]\n",
            "[4, 6]\n"
          ]
        }
      ]
    }
  ]
}