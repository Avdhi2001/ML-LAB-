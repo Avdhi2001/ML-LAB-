{
  "nbformat": 4,
  "nbformat_minor": 0,
  "metadata": {
    "colab": {
      "name": "dictioaey.ipynb",
      "provenance": []
    },
    "kernelspec": {
      "name": "python3",
      "display_name": "Python 3"
    },
    "language_info": {
      "name": "python"
    }
  },
  "cells": [
    {
      "cell_type": "code",
      "execution_count": 8,
      "metadata": {
        "colab": {
          "base_uri": "https://localhost:8080/",
          "height": 460
        },
        "id": "YR7WCkgE44E-",
        "outputId": "d2868249-ea0f-4e9f-c06d-700bdb8bb185"
      },
      "outputs": [
        {
          "name": "stdout",
          "output_type": "stream",
          "text": [
            "jan\n",
            "jan\n",
            "july\n",
            "aug\n",
            "nov\n",
            "june\n",
            "july\n",
            "apr\n",
            "mar\n",
            "oct\n",
            "dec\n",
            "june\n",
            "uly\n"
          ]
        },
        {
          "output_type": "error",
          "ename": "KeyError",
          "evalue": "ignored",
          "traceback": [
            "\u001b[0;31m---------------------------------------------------------------------------\u001b[0m",
            "\u001b[0;31mKeyError\u001b[0m                                  Traceback (most recent call last)",
            "\u001b[0;32m<ipython-input-8-c2fafaec3669>\u001b[0m in \u001b[0;36m<module>\u001b[0;34m()\u001b[0m\n\u001b[1;32m      5\u001b[0m     \u001b[0;32mbreak\u001b[0m\u001b[0;34m\u001b[0m\u001b[0;34m\u001b[0m\u001b[0m\n\u001b[1;32m      6\u001b[0m   \u001b[0;32melse\u001b[0m\u001b[0;34m:\u001b[0m\u001b[0;34m\u001b[0m\u001b[0;34m\u001b[0m\u001b[0m\n\u001b[0;32m----> 7\u001b[0;31m     \u001b[0mbirthday\u001b[0m\u001b[0;34m[\u001b[0m\u001b[0mmon\u001b[0m\u001b[0;34m]\u001b[0m\u001b[0;34m=\u001b[0m\u001b[0mbirthday\u001b[0m\u001b[0;34m[\u001b[0m\u001b[0mmon\u001b[0m\u001b[0;34m]\u001b[0m\u001b[0;34m+\u001b[0m\u001b[0;36m1\u001b[0m\u001b[0;34m\u001b[0m\u001b[0;34m\u001b[0m\u001b[0m\n\u001b[0m\u001b[1;32m      8\u001b[0m \u001b[0;34m\u001b[0m\u001b[0m\n\u001b[1;32m      9\u001b[0m \u001b[0mminv\u001b[0m\u001b[0;34m=\u001b[0m\u001b[0mbirthday\u001b[0m\u001b[0;34m[\u001b[0m\u001b[0;34m\"jan\"\u001b[0m\u001b[0;34m]\u001b[0m\u001b[0;34m\u001b[0m\u001b[0;34m\u001b[0m\u001b[0m\n",
            "\u001b[0;31mKeyError\u001b[0m: 'uly'"
          ]
        }
      ],
      "source": [
        "birthday={\"jan\":0,\"feb\":0,\"mar\":0,\"apr\":0,\"may\":1,\"june\":0,\"july\":0,\"aug\":0,\"sep\":0,\"oct\":0,\"nov\":0,\"dec\":0}\n",
        "while(True):\n",
        "  mon=input()\n",
        "  if mon ==\"\":\n",
        "    break\n",
        "  else:\n",
        "    birthday[mon]=birthday[mon]+1\n",
        "\n",
        "minv=birthday[\"jan\"]\n",
        "for i in birthday.keys():\n",
        "  if birthday[i]<minv:\n",
        "    minv=birthday[i]\n",
        "\n",
        "maxv=birthday[\"jan\"]\n",
        "for i in birthday.keys():\n",
        "  if birthday[i]>maxv:\n",
        "    maxv=birthday[i]\n",
        "\n",
        "print(birthday)\n",
        "print(f\"Minimum no of birthday in a month are {minv} \")\n",
        "print(f\"Maximum no of birthday in a month are {maxv} \")\n",
        "\n"
      ]
    }
  ]
}